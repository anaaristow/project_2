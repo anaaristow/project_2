{
 "cells": [
  {
   "cell_type": "code",
   "execution_count": 15,
   "id": "f45f2f7d",
   "metadata": {},
   "outputs": [],
   "source": [
    "import pandas as pd"
   ]
  },
  {
   "cell_type": "code",
   "execution_count": 16,
   "id": "85a85383",
   "metadata": {},
   "outputs": [],
   "source": [
    "df = pd.read_csv(\"../project_data_pipeline/data_set/world_marathon_majors.csv\", encoding='ISO-8859-1', sep=';')"
   ]
  },
  {
   "cell_type": "code",
   "execution_count": 17,
   "id": "833fc633",
   "metadata": {},
   "outputs": [
    {
     "name": "stderr",
     "output_type": "stream",
     "text": [
      "C:\\Users\\anafl\\AppData\\Local\\Temp\\ipykernel_30496\\2375059643.py:3: SettingWithCopyWarning: \n",
      "A value is trying to be set on a copy of a slice from a DataFrame.\n",
      "Try using .loc[row_indexer,col_indexer] = value instead\n",
      "\n",
      "See the caveats in the documentation: https://pandas.pydata.org/pandas-docs/stable/user_guide/indexing.html#returning-a-view-versus-a-copy\n",
      "  df['date'] = data_frame['time'].str.extract(r'(\\d{2}/\\d{2}/\\d{4})')\n"
     ]
    },
    {
     "data": {
      "text/html": [
       "<div>\n",
       "<style scoped>\n",
       "    .dataframe tbody tr th:only-of-type {\n",
       "        vertical-align: middle;\n",
       "    }\n",
       "\n",
       "    .dataframe tbody tr th {\n",
       "        vertical-align: top;\n",
       "    }\n",
       "\n",
       "    .dataframe thead th {\n",
       "        text-align: right;\n",
       "    }\n",
       "</style>\n",
       "<table border=\"1\" class=\"dataframe\">\n",
       "  <thead>\n",
       "    <tr style=\"text-align: right;\">\n",
       "      <th></th>\n",
       "      <th>year</th>\n",
       "      <th>winner</th>\n",
       "      <th>gender</th>\n",
       "      <th>country</th>\n",
       "      <th>time</th>\n",
       "      <th>marathon</th>\n",
       "      <th>date</th>\n",
       "      <th>time_race</th>\n",
       "    </tr>\n",
       "  </thead>\n",
       "  <tbody>\n",
       "    <tr>\n",
       "      <th>362</th>\n",
       "      <td>1980</td>\n",
       "      <td>Alberto Salazar</td>\n",
       "      <td>Male</td>\n",
       "      <td>United States</td>\n",
       "      <td>04/05/2018 02:09</td>\n",
       "      <td>NYC</td>\n",
       "      <td>04/05/2018</td>\n",
       "      <td>02:09</td>\n",
       "    </tr>\n",
       "  </tbody>\n",
       "</table>\n",
       "</div>"
      ],
      "text/plain": [
       "     year           winner gender        country              time marathon  \\\n",
       "362  1980  Alberto Salazar   Male  United States  04/05/2018 02:09      NYC   \n",
       "\n",
       "           date time_race  \n",
       "362  04/05/2018     02:09  "
      ]
     },
     "execution_count": 17,
     "metadata": {},
     "output_type": "execute_result"
    }
   ],
   "source": [
    "def ajusting_data(data_frame):\n",
    "    df = data_frame.dropna(axis=1, how='all')\n",
    "    df['date'] = data_frame['time'].str.extract(r'(\\d{2}/\\d{2}/\\d{4})')\n",
    "    df['time_race'] = df['time'].str.extract(r'(\\d{2}:\\d{2})')\n",
    "\n",
    "    return df\n",
    "\n",
    "df_clean = ajusting_data(df)\n",
    "df_clean.sample()"
   ]
  },
  {
   "cell_type": "code",
   "execution_count": 18,
   "id": "d4203978",
   "metadata": {},
   "outputs": [
    {
     "data": {
      "text/html": [
       "<div>\n",
       "<style scoped>\n",
       "    .dataframe tbody tr th:only-of-type {\n",
       "        vertical-align: middle;\n",
       "    }\n",
       "\n",
       "    .dataframe tbody tr th {\n",
       "        vertical-align: top;\n",
       "    }\n",
       "\n",
       "    .dataframe thead th {\n",
       "        text-align: right;\n",
       "    }\n",
       "</style>\n",
       "<table border=\"1\" class=\"dataframe\">\n",
       "  <thead>\n",
       "    <tr style=\"text-align: right;\">\n",
       "      <th></th>\n",
       "      <th>year</th>\n",
       "      <th>winner</th>\n",
       "      <th>gender</th>\n",
       "      <th>country</th>\n",
       "      <th>time</th>\n",
       "      <th>marathon</th>\n",
       "      <th>date</th>\n",
       "      <th>time_race</th>\n",
       "      <th>minutes</th>\n",
       "    </tr>\n",
       "  </thead>\n",
       "  <tbody>\n",
       "    <tr>\n",
       "      <th>337</th>\n",
       "      <td>1993</td>\n",
       "      <td>Uta Pippig</td>\n",
       "      <td>Female</td>\n",
       "      <td>Germany</td>\n",
       "      <td>04/05/2018 02:26</td>\n",
       "      <td>NYC</td>\n",
       "      <td>04/05/2018</td>\n",
       "      <td>02:26</td>\n",
       "      <td>146</td>\n",
       "    </tr>\n",
       "  </tbody>\n",
       "</table>\n",
       "</div>"
      ],
      "text/plain": [
       "     year      winner  gender  country              time marathon        date  \\\n",
       "337  1993  Uta Pippig  Female  Germany  04/05/2018 02:26      NYC  04/05/2018   \n",
       "\n",
       "    time_race  minutes  \n",
       "337     02:26      146  "
      ]
     },
     "execution_count": 18,
     "metadata": {},
     "output_type": "execute_result"
    }
   ],
   "source": [
    "def minutes(time):\n",
    "    time_str = str(time)\n",
    "    parts = time_str.split(':')\n",
    "    if len(parts) == 2:\n",
    "        hours, minutes = map(int, parts)\n",
    "        return hours * 60 + minutes\n",
    "    else:\n",
    "        return 0\n",
    "\n",
    "# Apply the conversion function to the 'Race Time' column and create a new column 'Time in Minutes'\n",
    "df_clean['minutes'] = df_clean['time_race'].apply(minutes)\n",
    "df_clean.sample()"
   ]
  },
  {
   "cell_type": "code",
   "execution_count": 24,
   "id": "fb1cc3be",
   "metadata": {},
   "outputs": [],
   "source": [
    "# Converting in CSV \n",
    "\n",
    "def converting (data_frame):\n",
    "    data_frame.to_csv('../project_data_pipeline/data_set/data_set_clean')\n",
    "    return \"converted in a data fram\"\n",
    "\n",
    "new_df = converting(df_clean)"
   ]
  },
  {
   "cell_type": "code",
   "execution_count": 26,
   "id": "de510abc",
   "metadata": {},
   "outputs": [
    {
     "data": {
      "text/html": [
       "<div>\n",
       "<style scoped>\n",
       "    .dataframe tbody tr th:only-of-type {\n",
       "        vertical-align: middle;\n",
       "    }\n",
       "\n",
       "    .dataframe tbody tr th {\n",
       "        vertical-align: top;\n",
       "    }\n",
       "\n",
       "    .dataframe thead th {\n",
       "        text-align: right;\n",
       "    }\n",
       "</style>\n",
       "<table border=\"1\" class=\"dataframe\">\n",
       "  <thead>\n",
       "    <tr style=\"text-align: right;\">\n",
       "      <th></th>\n",
       "      <th>Unnamed: 0</th>\n",
       "      <th>Nation</th>\n",
       "      <th>HDI</th>\n",
       "    </tr>\n",
       "  </thead>\n",
       "  <tbody>\n",
       "    <tr>\n",
       "      <th>104</th>\n",
       "      <td>104</td>\n",
       "      <td>Paraguay</td>\n",
       "      <td>0.717</td>\n",
       "    </tr>\n",
       "  </tbody>\n",
       "</table>\n",
       "</div>"
      ],
      "text/plain": [
       "     Unnamed: 0    Nation    HDI\n",
       "104         104  Paraguay  0.717"
      ]
     },
     "execution_count": 26,
     "metadata": {},
     "output_type": "execute_result"
    }
   ],
   "source": [
    "hdi = pd.read_csv(f\"../project_data_pipeline/data_set/hdi_data_set\")\n",
    "hdi.sample()"
   ]
  },
  {
   "cell_type": "code",
   "execution_count": 28,
   "id": "c55d3321",
   "metadata": {},
   "outputs": [
    {
     "data": {
      "text/html": [
       "<div>\n",
       "<style scoped>\n",
       "    .dataframe tbody tr th:only-of-type {\n",
       "        vertical-align: middle;\n",
       "    }\n",
       "\n",
       "    .dataframe tbody tr th {\n",
       "        vertical-align: top;\n",
       "    }\n",
       "\n",
       "    .dataframe thead th {\n",
       "        text-align: right;\n",
       "    }\n",
       "</style>\n",
       "<table border=\"1\" class=\"dataframe\">\n",
       "  <thead>\n",
       "    <tr style=\"text-align: right;\">\n",
       "      <th></th>\n",
       "      <th>Country</th>\n",
       "      <th>Total Winners</th>\n",
       "      <th>Percentage</th>\n",
       "    </tr>\n",
       "  </thead>\n",
       "  <tbody>\n",
       "    <tr>\n",
       "      <th>0</th>\n",
       "      <td>Kenya</td>\n",
       "      <td>136</td>\n",
       "      <td>25.37%</td>\n",
       "    </tr>\n",
       "    <tr>\n",
       "      <th>1</th>\n",
       "      <td>United States</td>\n",
       "      <td>104</td>\n",
       "      <td>19.4%</td>\n",
       "    </tr>\n",
       "    <tr>\n",
       "      <th>2</th>\n",
       "      <td>Ethiopia</td>\n",
       "      <td>51</td>\n",
       "      <td>9.51%</td>\n",
       "    </tr>\n",
       "    <tr>\n",
       "      <th>3</th>\n",
       "      <td>Germany</td>\n",
       "      <td>36</td>\n",
       "      <td>6.72%</td>\n",
       "    </tr>\n",
       "    <tr>\n",
       "      <th>4</th>\n",
       "      <td>United Kingdom</td>\n",
       "      <td>35</td>\n",
       "      <td>6.53%</td>\n",
       "    </tr>\n",
       "  </tbody>\n",
       "</table>\n",
       "</div>"
      ],
      "text/plain": [
       "          Country  Total Winners Percentage\n",
       "0           Kenya            136     25.37%\n",
       "1   United States            104      19.4%\n",
       "2        Ethiopia             51      9.51%\n",
       "3         Germany             36      6.72%\n",
       "4  United Kingdom             35      6.53%"
      ]
     },
     "execution_count": 28,
     "metadata": {},
     "output_type": "execute_result"
    }
   ],
   "source": [
    "# Calculate the total number of winners for each country\n",
    "\n",
    "def grouping_winners(data_frame):\n",
    "    # Creating a subset with the nationality and the total of winners\n",
    "    total_winners = data_frame['country'].value_counts().reset_index()\n",
    "    total_winners.columns = ['Country', 'Total Winners']\n",
    "    # Getting the percentage\n",
    "    total_winners['Percentage'] = ((total_winners['Total Winners'] / total_winners['Total Winners'].sum()) * 100).round(2).astype(str) + '%'\n",
    "    return total_winners\n",
    "\n",
    "total_winners = grouping_winners(df)\n",
    "total_winners.head()\n"
   ]
  },
  {
   "cell_type": "code",
   "execution_count": 22,
   "id": "2652884f",
   "metadata": {},
   "outputs": [
    {
     "data": {
      "text/html": [
       "<div>\n",
       "<style scoped>\n",
       "    .dataframe tbody tr th:only-of-type {\n",
       "        vertical-align: middle;\n",
       "    }\n",
       "\n",
       "    .dataframe tbody tr th {\n",
       "        vertical-align: top;\n",
       "    }\n",
       "\n",
       "    .dataframe thead th {\n",
       "        text-align: right;\n",
       "    }\n",
       "</style>\n",
       "<table border=\"1\" class=\"dataframe\">\n",
       "  <thead>\n",
       "    <tr style=\"text-align: right;\">\n",
       "      <th></th>\n",
       "      <th>Country</th>\n",
       "      <th>Total Winners</th>\n",
       "      <th>Percentage</th>\n",
       "      <th>HDI</th>\n",
       "    </tr>\n",
       "  </thead>\n",
       "  <tbody>\n",
       "    <tr>\n",
       "      <th>0</th>\n",
       "      <td>Kenya</td>\n",
       "      <td>136</td>\n",
       "      <td>25.37%</td>\n",
       "      <td>0.575</td>\n",
       "    </tr>\n",
       "    <tr>\n",
       "      <th>1</th>\n",
       "      <td>United States</td>\n",
       "      <td>104</td>\n",
       "      <td>19.4%</td>\n",
       "      <td>0.921</td>\n",
       "    </tr>\n",
       "    <tr>\n",
       "      <th>2</th>\n",
       "      <td>Ethiopia</td>\n",
       "      <td>51</td>\n",
       "      <td>9.51%</td>\n",
       "      <td>0.498</td>\n",
       "    </tr>\n",
       "    <tr>\n",
       "      <th>3</th>\n",
       "      <td>Germany</td>\n",
       "      <td>36</td>\n",
       "      <td>6.72%</td>\n",
       "      <td>0.942</td>\n",
       "    </tr>\n",
       "    <tr>\n",
       "      <th>4</th>\n",
       "      <td>United Kingdom</td>\n",
       "      <td>35</td>\n",
       "      <td>6.53%</td>\n",
       "      <td>0.929</td>\n",
       "    </tr>\n",
       "  </tbody>\n",
       "</table>\n",
       "</div>"
      ],
      "text/plain": [
       "          Country  Total Winners Percentage    HDI\n",
       "0           Kenya            136     25.37%  0.575\n",
       "1   United States            104      19.4%  0.921\n",
       "2        Ethiopia             51      9.51%  0.498\n",
       "3         Germany             36      6.72%  0.942\n",
       "4  United Kingdom             35      6.53%  0.929"
      ]
     },
     "execution_count": 22,
     "metadata": {},
     "output_type": "execute_result"
    }
   ],
   "source": [
    "# Creating a function that will be responsible for combining the two data frame \n",
    "\n",
    "def combining_data(data_set1, data_set2, column1, column2):\n",
    "    # Combininf data_set1 with data_set2 on the column1 and column2\n",
    "    combined = data_set1.merge(data_set2, left_on=f'{column1}', right_on=f'{column2}')\n",
    "    combined = combined[['Country', 'Total Winners', 'Percentage', 'HDI']]\n",
    "    return combined\n",
    "\n",
    "combined = combining_data(total_winners, hdi, \"Country\", \"Nation\")\n",
    "combined.head()"
   ]
  },
  {
   "cell_type": "code",
   "execution_count": 30,
   "id": "5aa69fb9",
   "metadata": {},
   "outputs": [],
   "source": [
    "combined.to_csv(f'../project_data_pipeline/data_set/combined_data_set')"
   ]
  },
  {
   "cell_type": "code",
   "execution_count": null,
   "id": "ad30bab9",
   "metadata": {},
   "outputs": [],
   "source": []
  }
 ],
 "metadata": {
  "kernelspec": {
   "display_name": "ironhack",
   "language": "python",
   "name": "python3"
  },
  "language_info": {
   "codemirror_mode": {
    "name": "ipython",
    "version": 3
   },
   "file_extension": ".py",
   "mimetype": "text/x-python",
   "name": "python",
   "nbconvert_exporter": "python",
   "pygments_lexer": "ipython3",
   "version": "3.12.0"
  }
 },
 "nbformat": 4,
 "nbformat_minor": 5
}
